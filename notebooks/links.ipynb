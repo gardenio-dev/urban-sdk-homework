{
 "cells": [
  {
   "cell_type": "code",
   "execution_count": 1,
   "id": "bb6b9064-bb3e-47ab-ae75-4789e173cebd",
   "metadata": {},
   "outputs": [
    {
     "name": "stdout",
     "output_type": "stream",
     "text": [
      "2025-08-06 11:34:28,212 INFO sqlalchemy.engine.Engine select pg_catalog.version()\n",
      "2025-08-06 11:34:28,213 INFO sqlalchemy.engine.Engine [raw sql] {}\n",
      "2025-08-06 11:34:28,217 INFO sqlalchemy.engine.Engine select current_schema()\n",
      "2025-08-06 11:34:28,218 INFO sqlalchemy.engine.Engine [raw sql] {}\n",
      "2025-08-06 11:34:28,223 INFO sqlalchemy.engine.Engine show standard_conforming_strings\n",
      "2025-08-06 11:34:28,223 INFO sqlalchemy.engine.Engine [raw sql] {}\n",
      "2025-08-06 11:34:28,228 INFO sqlalchemy.engine.Engine BEGIN (implicit)\n",
      "2025-08-06 11:34:28,237 INFO sqlalchemy.engine.Engine SELECT pg_catalog.pg_class.relname \n",
      "FROM pg_catalog.pg_class JOIN pg_catalog.pg_namespace ON pg_catalog.pg_namespace.oid = pg_catalog.pg_class.relnamespace \n",
      "WHERE pg_catalog.pg_class.relname = %(table_name)s AND pg_catalog.pg_class.relkind = ANY (ARRAY[%(param_1)s, %(param_2)s, %(param_3)s, %(param_4)s, %(param_5)s]) AND pg_catalog.pg_namespace.nspname = %(nspname_1)s\n",
      "2025-08-06 11:34:28,238 INFO sqlalchemy.engine.Engine [generated in 0.00106s] {'table_name': 'links', 'param_1': 'r', 'param_2': 'p', 'param_3': 'f', 'param_4': 'v', 'param_5': 'm', 'nspname_1': 'traffic'}\n",
      "2025-08-06 11:34:28,246 INFO sqlalchemy.engine.Engine SELECT pg_catalog.pg_class.relname \n",
      "FROM pg_catalog.pg_class JOIN pg_catalog.pg_namespace ON pg_catalog.pg_namespace.oid = pg_catalog.pg_class.relnamespace \n",
      "WHERE pg_catalog.pg_class.relname = %(table_name)s AND pg_catalog.pg_class.relkind = ANY (ARRAY[%(param_1)s, %(param_2)s, %(param_3)s, %(param_4)s, %(param_5)s]) AND pg_catalog.pg_namespace.nspname = %(nspname_1)s\n",
      "2025-08-06 11:34:28,247 INFO sqlalchemy.engine.Engine [cached since 0.01052s ago] {'table_name': 'speed_records', 'param_1': 'r', 'param_2': 'p', 'param_3': 'f', 'param_4': 'v', 'param_5': 'm', 'nspname_1': 'traffic'}\n",
      "2025-08-06 11:34:28,252 INFO sqlalchemy.engine.Engine COMMIT\n",
      "Traffic service connected successfully!\n"
     ]
    }
   ],
   "source": [
    "from urban_sdk_homework.modules.traffic.services import TrafficService\n",
    "from urban_sdk_homework.modules.traffic.models import Link\n",
    "\n",
    "# Test the traffic service.\n",
    "service = TrafficService.connect()\n",
    "print(\"Traffic service connected successfully!\")"
   ]
  },
  {
   "cell_type": "code",
   "execution_count": 2,
   "id": "73c393a5-61a7-4fba-b904-cb8b680d145c",
   "metadata": {},
   "outputs": [],
   "source": [
    "# Set up.\n",
    "MAPBOX_TOKEN = \"your-mapbox-token\"\n",
    "BASE_URL = \"http://localhost:8000\""
   ]
  },
  {
   "cell_type": "code",
   "execution_count": 7,
   "id": "313edfe9-d420-47c9-8b4f-12ecdcb967d1",
   "metadata": {},
   "outputs": [
    {
     "name": "stdout",
     "output_type": "stream",
     "text": [
      "[\n",
      "  {\n",
      "    \"link_id\": 16981048,\n",
      "    \"day_of_week\": 2,\n",
      "    \"period\": 7,\n",
      "    \"speed\": 48.205799999999996\n",
      "  },\n",
      "  {\n",
      "    \"link_id\": 16981074,\n",
      "    \"day_of_week\": 2,\n",
      "    \"period\": 7,\n",
      "    \"speed\": 46.876400000000004\n",
      "  },\n",
      "  {\n",
      "    \"link_id\": 16993102,\n",
      "    \"day_of_week\": 2,\n",
      "    \"period\": 7,\n",
      "    \"speed\": 7.56\n",
      "  },\n",
      "  {\n",
      "    \"link_id\": 16993105,\n",
      "    \"day_of_week\": 2,\n",
      "    \"period\": 7,\n",
      "    \"speed\": 9.796999999999999\n",
      "  },\n",
      "  {\n",
      "    \"link_id\": 16993108,\n",
      "    \"day_of_week\": 2,\n",
      "    \"period\": 7,\n",
      "    \"speed\": 7.891\n",
      "  },\n",
      "  {\n",
      "    \"link_id\": 16993573,\n",
      "    \"day_of_week\": 2,\n",
      "    \"period\": 7,\n",
      "    \"speed\": 19.263\n",
      "  },\n",
      "  {\n",
      "    \"link_id\": 16993580,\n",
      "    \"day_of_week\": 2,\n",
      "    \"period\": 7,\n",
      "    \"speed\": 71.86779999999999\n",
      "  },\n",
      "  {\n",
      "    \"link_id\": 16993582,\n",
      "    \"day_of_week\": 2,\n",
      "    \"period\": 7,\n",
      "    \"speed\": 71.79339999999999\n",
      "  },\n",
      "  {\n",
      "    \"link_id\": 16993624,\n",
      "    \"day_of_week\": 2,\n",
      "    \"period\": 7,\n",
      "    \"speed\": 72.98620000000001\n",
      "  },\n",
      "  {\n",
      "    \"link_id\": 16993997,\n",
      "    \"day_of_week\": 2,\n",
      "    \"period\": 7,\n",
      "    \"speed\": 60.14880000000001\n",
      "  }\n",
      "]\n"
     ]
    }
   ],
   "source": [
    "# Request Aggregated Data\n",
    "import json\n",
    "import requests\n",
    "\n",
    "# TODO: Add support for day and period names.\n",
    "# TODO: Add offset and limit parameters.\n",
    "params = {\n",
    "    \"day\": 2,    # Monday\n",
    "    \"period\": 7  # \"AM Peak\"\n",
    "}\n",
    "response = requests.get(f\"{BASE_URL}/aggregates/\", params=params)\n",
    "geojson_data = response.json()\n",
    "print(json.dumps(geojson_data, indent=2))\n"
   ]
  },
  {
   "cell_type": "code",
   "execution_count": 12,
   "id": "c2aabf33-c6c0-4377-8a18-fbf6b085b068",
   "metadata": {},
   "outputs": [
    {
     "ename": "ImportError",
     "evalue": "cannot import name 'display' from 'IPython.core.display' (/home/nonroot/.pyenv/versions/3.11.8/lib/python3.11/site-packages/IPython/core/display.py)",
     "output_type": "error",
     "traceback": [
      "\u001b[31m---------------------------------------------------------------------------\u001b[39m",
      "\u001b[31mImportError\u001b[39m                               Traceback (most recent call last)",
      "\u001b[36mCell\u001b[39m\u001b[36m \u001b[39m\u001b[32mIn[12]\u001b[39m\u001b[32m, line 9\u001b[39m\n\u001b[32m      6\u001b[39m     \u001b[38;5;28;01mfrom\u001b[39;00m\u001b[38;5;250m \u001b[39m\u001b[34;01mIPython\u001b[39;00m\u001b[34;01m.\u001b[39;00m\u001b[34;01mdisplay\u001b[39;00m\u001b[38;5;250m \u001b[39m\u001b[38;5;28;01mimport\u001b[39;00m display \u001b[38;5;28;01mas\u001b[39;00m _display\n\u001b[32m      7\u001b[39m     IPython.display.display = _display\n\u001b[32m----> \u001b[39m\u001b[32m9\u001b[39m \u001b[38;5;28;01mfrom\u001b[39;00m\u001b[38;5;250m \u001b[39m\u001b[34;01mmapboxgl\u001b[39;00m\u001b[34;01m.\u001b[39;00m\u001b[34;01mviz\u001b[39;00m\u001b[38;5;250m \u001b[39m\u001b[38;5;28;01mimport\u001b[39;00m ChoroplethViz\n\u001b[32m     10\u001b[39m \u001b[38;5;66;03m#from mapboxgl.utils import create_color_stops\u001b[39;00m\n",
      "\u001b[36mFile \u001b[39m\u001b[32m~/.pyenv/versions/3.11.8/lib/python3.11/site-packages/mapboxgl/__init__.py:1\u001b[39m\n\u001b[32m----> \u001b[39m\u001b[32m1\u001b[39m \u001b[38;5;28;01mfrom\u001b[39;00m\u001b[38;5;250m \u001b[39m\u001b[34;01m.\u001b[39;00m\u001b[34;01mviz\u001b[39;00m\u001b[38;5;250m \u001b[39m\u001b[38;5;28;01mimport\u001b[39;00m CircleViz, GraduatedCircleViz, HeatmapViz, ClusteredCircleViz, ImageViz, RasterTilesViz, ChoroplethViz, LinestringViz\n\u001b[32m      3\u001b[39m __version__ = \u001b[33m\"\u001b[39m\u001b[33m0.10.2\u001b[39m\u001b[33m\"\u001b[39m\n\u001b[32m      4\u001b[39m __all__ = [\u001b[33m'\u001b[39m\u001b[33mCircleViz\u001b[39m\u001b[33m'\u001b[39m, \u001b[33m'\u001b[39m\u001b[33mGraduatedCircleViz\u001b[39m\u001b[33m'\u001b[39m, \u001b[33m'\u001b[39m\u001b[33mHeatmapViz\u001b[39m\u001b[33m'\u001b[39m, \u001b[33m'\u001b[39m\u001b[33mClusteredCircleViz\u001b[39m\u001b[33m'\u001b[39m, \u001b[33m'\u001b[39m\u001b[33mImageViz\u001b[39m\u001b[33m'\u001b[39m, \u001b[33m'\u001b[39m\u001b[33mRasterTilesViz\u001b[39m\u001b[33m'\u001b[39m, \u001b[33m'\u001b[39m\u001b[33mChoroplethViz\u001b[39m\u001b[33m'\u001b[39m, \u001b[33m'\u001b[39m\u001b[33mLinestringViz\u001b[39m\u001b[33m'\u001b[39m]\n",
      "\u001b[36mFile \u001b[39m\u001b[32m~/.pyenv/versions/3.11.8/lib/python3.11/site-packages/mapboxgl/viz.py:5\u001b[39m\n\u001b[32m      2\u001b[39m \u001b[38;5;28;01mimport\u001b[39;00m\u001b[38;5;250m \u001b[39m\u001b[34;01mjson\u001b[39;00m\n\u001b[32m      3\u001b[39m \u001b[38;5;28;01mimport\u001b[39;00m\u001b[38;5;250m \u001b[39m\u001b[34;01mos\u001b[39;00m\n\u001b[32m----> \u001b[39m\u001b[32m5\u001b[39m \u001b[38;5;28;01mfrom\u001b[39;00m\u001b[38;5;250m \u001b[39m\u001b[34;01mIPython\u001b[39;00m\u001b[34;01m.\u001b[39;00m\u001b[34;01mcore\u001b[39;00m\u001b[34;01m.\u001b[39;00m\u001b[34;01mdisplay\u001b[39;00m\u001b[38;5;250m \u001b[39m\u001b[38;5;28;01mimport\u001b[39;00m HTML, display\n\u001b[32m      7\u001b[39m \u001b[38;5;28;01mimport\u001b[39;00m\u001b[38;5;250m \u001b[39m\u001b[34;01mnumpy\u001b[39;00m\n\u001b[32m      8\u001b[39m \u001b[38;5;28;01mimport\u001b[39;00m\u001b[38;5;250m \u001b[39m\u001b[34;01mrequests\u001b[39;00m\n",
      "\u001b[31mImportError\u001b[39m: cannot import name 'display' from 'IPython.core.display' (/home/nonroot/.pyenv/versions/3.11.8/lib/python3.11/site-packages/IPython/core/display.py)"
     ]
    }
   ],
   "source": [
    "# Visualize in Mapbox\n",
    "#from mapboxgl.viz import ChoroplethViz\n",
    "#from mapboxgl.utils import create_color_stops"
   ]
  },
  {
   "cell_type": "code",
   "execution_count": null,
   "id": "2678cf01-c85e-4b97-b4d8-328cdbe72959",
   "metadata": {},
   "outputs": [],
   "source": [
    "import folium\n",
    "import geopandas as gpd\n",
    "import plotly.express as px\n",
    "\n",
    "# For Folium (Leaflet-based)\n",
    "m = folium.Map(location=[30.2, -81.7], zoom_start=10)\n",
    "# Add your choropleth data\n",
    "folium.Choropleth(\n",
    "    geo_data=your_geojson,\n",
    "    data=your_dataframe,\n",
    "    columns=['link_id', 'average_speed'],\n",
    "    key_on='feature.properties.link_id',\n",
    "    fill_color='YlOrRd',\n",
    "    fill_opacity=0.7,\n",
    "    line_opacity=0.2,\n",
    ").add_to(m)\n",
    "\n",
    "# For Plotly\n",
    "fig = px.choropleth_mapbox(\n",
    "    your_dataframe,\n",
    "    geojson=your_geojson,\n",
    "    locations=\"link_id\",\n",
    "    color=\"average_speed\",\n",
    "    mapbox_style=\"open-street-map\",\n",
    "    zoom=10,\n",
    "    center={\"lat\": 30.2, \"lon\": -81.7},\n",
    ")\n",
    "fig.show()"
   ]
  }
 ],
 "metadata": {
  "kernelspec": {
   "display_name": "Python 3 (ipykernel)",
   "language": "python",
   "name": "python3"
  },
  "language_info": {
   "codemirror_mode": {
    "name": "ipython",
    "version": 3
   },
   "file_extension": ".py",
   "mimetype": "text/x-python",
   "name": "python",
   "nbconvert_exporter": "python",
   "pygments_lexer": "ipython3",
   "version": "3.11.8"
  }
 },
 "nbformat": 4,
 "nbformat_minor": 5
}
